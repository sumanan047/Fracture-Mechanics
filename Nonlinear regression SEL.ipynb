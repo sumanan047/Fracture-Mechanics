{
 "cells": [
  {
   "cell_type": "code",
   "execution_count": 1,
   "metadata": {},
   "outputs": [],
   "source": [
    "# Non-linear fitting for the Size effect Law\n",
    "# Author: Suman Saurabh"
   ]
  },
  {
   "cell_type": "code",
   "execution_count": 10,
   "metadata": {},
   "outputs": [
    {
     "name": "stdout",
     "output_type": "stream",
     "text": [
      "****************************************************************************************************\n",
      "The value of M is: 62159.93347694026 and the value of N is:,  -0.009839426891637455\n",
      "****************************************************************************************************\n",
      "The estimated R^2 value for the curve fitting is:  0.874\n",
      "****************************************************************************************************\n",
      "The value of B'tf is:  626650.8591236103  and the value of D0 is:  0.009839426891637455\n"
     ]
    },
    {
     "data": {
      "text/plain": [
       "[<matplotlib.lines.Line2D at 0x1ce8ab3d490>]"
      ]
     },
     "execution_count": 10,
     "metadata": {},
     "output_type": "execute_result"
    },
    {
     "data": {
      "image/png": "[encoded data removed]",
      "text/plain": [
       "<Figure size 432x288 with 1 Axes>"
      ]
     },
     "metadata": {
      "needs_background": "light"
     },
     "output_type": "display_data"
    }
   ],
   "source": [
    "############################## SIZE EFFECT LAW for limestone ####################################################################\n",
    "\n",
    "import numpy as np\n",
    "import matplotlib.pyplot as plt\n",
    "\n",
    "# y = log(Sn) and x = log(d)\n",
    "\n",
    "y = np.array([15.39395071,14.00952291,13.29281671,12.90109916,12.76452102,11.8117953,11.54058896])\n",
    "x = np.array([-4.605170186,-3.912023005,-3.506557897,-3.218875825,-2.995732274,-2.525728644,-2.207274913])\n",
    "\n",
    "def SEL(x,M, N):\n",
    "    return np.log(M/(np.sqrt(N+np.exp(x))))\n",
    "\n",
    "g =  [62159.933993925886 ,-0.009839426853673573]\n",
    "\n",
    "yp = np.empty(len(x))\n",
    "for i in range(len(x)):\n",
    "    yp[i] = SEL(x[i],g[0],g[1])\n",
    "\n",
    "plt.plot(x,y,\"o\")\n",
    "plt.plot(x,yp)\n",
    "    \n",
    "from scipy.optimize import curve_fit\n",
    "c, cov = curve_fit(SEL, x, y,g)\n",
    "\n",
    "print(100*\"*\")\n",
    "print(\"The value of M is:\", c[0], \"and the value of N is:, \", c[1])\n",
    "\n",
    "\n",
    "print(100*\"*\")\n",
    "from sklearn.metrics import r2_score\n",
    "print(\"The estimated R^2 value for the curve fitting is: \", np.round(r2_score(y,yp),3))\n",
    "\n",
    "\n",
    "##########################################################################################################################\n",
    "print(100*\"*\")\n",
    "M=c[0]\n",
    "N = -c[1]\n",
    "D0 = N\n",
    "Bt = M/np.sqrt(N)\n",
    "\n",
    "print(\"The value of B'tf is: \", Bt, \" and the value of D0 is: \", D0)\n",
    "\n",
    "plt.plot(x,y,\"o\")\n",
    "plt.plot(x,yp)"
   ]
  },
  {
   "cell_type": "code",
   "execution_count": 7,
   "metadata": {},
   "outputs": [
    {
     "data": {
      "text/plain": [
       "array([7.73538985, 1.93746046, 0.94617464, 0.6395147 , 0.55787307,\n",
       "       0.21516512, 0.16405462])"
      ]
     },
     "execution_count": 7,
     "metadata": {},
     "output_type": "execute_result"
    },
    {
     "data": {
      "image/png": "[encoded data removed]",
      "text/plain": [
       "<Figure size 432x288 with 1 Axes>"
      ]
     },
     "metadata": {
      "needs_background": "light"
     },
     "output_type": "display_data"
    }
   ],
   "source": [
    "Sn = np.array([4847388.74,1214111.276,592921.1567,400752.4413,349591.6444,134833.4103,102804.9682])\n",
    "y_SEL = Sn/Bt\n",
    "x_SEL = np.exp(x)/D0\n",
    "\n",
    "\n",
    "plt.plot(x_SEL,y_SEL,\"*\")\n",
    "plt.xscale('log')\n",
    "plt.ylim([0,1.2])\n",
    "\n",
    "y_SEL"
   ]
  },
  {
   "cell_type": "code",
   "execution_count": 3,
   "metadata": {},
   "outputs": [
    {
     "name": "stdout",
     "output_type": "stream",
     "text": [
      "****************************************************************************************************\n",
      "The value of M is: 30188.851702644384 and the value of N is:,  -0.009128609630467287\n",
      "****************************************************************************************************\n",
      "The estimated R^2 value for the curve fitting is:  0.92\n",
      "****************************************************************************************************\n",
      "The value of B'tf is:  315968.85487434425  and the value of D0 is:  0.009128609630467287\n"
     ]
    },
    {
     "data": {
      "text/plain": [
       "[<matplotlib.lines.Line2D at 0x21ce05d1a90>]"
      ]
     },
     "execution_count": 3,
     "metadata": {},
     "output_type": "execute_result"
    },
    {
     "data": {
      "image/png": "[encoded data removed]",
      "text/plain": [
       "<Figure size 432x288 with 1 Axes>"
      ]
     },
     "metadata": {
      "needs_background": "light"
     },
     "output_type": "display_data"
    }
   ],
   "source": [
    "############################## SIZE EFFECT LAW for Shale ####################################################################\n",
    "\n",
    "\n",
    "import numpy as np\n",
    "import matplotlib.pyplot as plt\n",
    "\n",
    "# y = log(Sn) and x = log(d)\n",
    "\n",
    "y = np.array([13.8158483,12.91678265,12.36821157,11.93180011,11.59933104])\n",
    "x = np.array([-4.605170186,-3.912023005,-3.506557897,-3.218875825,-2.995732274])\n",
    "\n",
    "def SEL(x,M, N):\n",
    "    return np.log(M/(np.sqrt(N+np.exp(x))))\n",
    "\n",
    "g =  [30188.854202242535 ,-0.009128609014619777]\n",
    "\n",
    "yp = np.empty(len(x))\n",
    "for i in range(len(x)):\n",
    "    yp[i] = SEL(x[i],g[0],g[1])\n",
    "\n",
    "plt.plot(x,y,\"o\")\n",
    "plt.plot(x,yp)\n",
    "    \n",
    "from scipy.optimize import curve_fit\n",
    "c, cov = curve_fit(SEL, x, y,g)\n",
    "\n",
    "print(100*\"*\")\n",
    "print(\"The value of M is:\", c[0], \"and the value of N is:, \", c[1])\n",
    "\n",
    "\n",
    "print(100*\"*\")\n",
    "from sklearn.metrics import r2_score\n",
    "print(\"The estimated R^2 value for the curve fitting is: \", np.round(r2_score(y,yp),3))\n",
    "\n",
    "\n",
    "##########################################################################################################################\n",
    "print(100*\"*\")\n",
    "M=c[0]\n",
    "N = -c[1]\n",
    "D0 = N\n",
    "Bt = M/np.sqrt(N)\n",
    "\n",
    "print(\"The value of B'tf is: \", Bt, \" and the value of D0 is: \", D0)\n",
    "\n",
    "plt.plot(x,y,\"o\")\n",
    "plt.plot(x,yp)"
   ]
  },
  {
   "cell_type": "code",
   "execution_count": null,
   "metadata": {},
   "outputs": [],
   "source": []
  }
 ],
 "metadata": {
  "kernelspec": {
   "display_name": "Python 3",
   "language": "python",
   "name": "python3"
  },
  "language_info": {
   "codemirror_mode": {
    "name": "ipython",
    "version": 3
   },
   "file_extension": ".py",
   "mimetype": "text/x-python",
   "name": "python",
   "nbconvert_exporter": "python",
   "pygments_lexer": "ipython3",
   "version": "3.8.5"
  }
 },
 "nbformat": 4,
 "nbformat_minor": 4
}
